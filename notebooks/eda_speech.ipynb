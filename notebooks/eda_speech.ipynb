{
 "cells": [
  {
   "cell_type": "markdown",
   "metadata": {},
   "source": [
    "# 🎙️ Speech Dataset EDA\n",
    "This notebook visualizes audio waveforms, spectrograms, and MFCCs for speech-to-text preprocessing."
   ]
  },
  {
   "cell_type": "code",
   "execution_count": 1,
   "metadata": {},
   "outputs": [],
   "source": [
    "import librosa\n",
    "import librosa.display\n",
    "import matplotlib.pyplot as plt\n",
    "\n",
    "# Load sample audio\n",
    "audio_path = '../data/train/audio/sample.wav'  # Replace with actual file\n",
    "y, sr = librosa.load(audio_path, sr=16000)\n",
    "print(f'Sample rate: {sr}, Duration: {len(y)/sr:.2f} seconds')"
   ]
  },
  {
   "cell_type": "code",
   "execution_count": 2,
   "metadata": {},
   "outputs": [],
   "source": [
    "# Plot waveform\n",
    "plt.figure(figsize=(14,4))\n",
    "librosa.display.waveshow(y, sr=sr)\n",
    "plt.title('Audio Waveform')\n",
    "plt.show()"
   ]
  },
  {
   "cell_type": "code",
   "execution_count": 3,
   "metadata": {},
   "outputs": [],
   "source": [
    "# Plot spectrogram\n",
    "D = librosa.amplitude_to_db(librosa.stft(y), ref=np.max)\n",
    "plt.figure(figsize=(10,4))\n",
    "librosa.display.specshow(D, sr=sr, x_axis='time', y_axis='hz')\n",
    "plt.colorbar(format='%+2.0f dB')\n",
    "plt.title('Spectrogram')\n",
    "plt.show()"
   ]
  },
  {
   "cell_type": "code",
   "execution_count": 4,
   "metadata": {},
   "outputs": [],
   "source": [
    "# Plot MFCCs\n",
    "mfccs = librosa.feature.mfcc(y=y, sr=sr, n_mfcc=13)\n",
    "plt.figure(figsize=(10,4))\n",
    "librosa.display.specshow(mfccs, sr=sr, x_axis='time')\n",
    "plt.colorbar()\n",
    "plt.title('MFCCs')\n",
    "plt.show()"
   ]
  }
 ],
 "metadata": {
  "kernelspec": {
   "display_name": "Python 3",
   "language": "python",
   "name": "python3"
  }
 },
 "nbformat": 4,
 "nbformat_minor": 5
}